{
 "cells": [
  {
   "cell_type": "code",
   "execution_count": 1,
   "metadata": {
    "tags": []
   },
   "outputs": [
    {
     "output_type": "stream",
     "name": "stderr",
     "text": "Using TensorFlow backend.\n"
    }
   ],
   "source": [
    "import keras\n",
    "\n",
    "from keras.datasets import mnist\n",
    "from keras.models import Sequential\n",
    "\n",
    "from keras.layers import Dense, Dropout, Flatten\n",
    "from keras.layers import Conv2D, MaxPooling2D\n",
    "from keras import backend as K\n",
    "import keras.utils as KerasUtil"
   ]
  },
  {
   "cell_type": "code",
   "execution_count": 2,
   "metadata": {},
   "outputs": [],
   "source": [
    "batch_size = 128\n",
    "num_classes = 10\n",
    "epochs = 12\n",
    "\n",
    "# input image dimensions\n",
    "img_rows, img_cols = 28, 28"
   ]
  },
  {
   "cell_type": "code",
   "execution_count": 3,
   "metadata": {},
   "outputs": [],
   "source": [
    "(x_train, y_train), (x_test, y_test) = mnist.load_data()"
   ]
  },
  {
   "cell_type": "code",
   "execution_count": 4,
   "metadata": {},
   "outputs": [],
   "source": [
    "if K.image_data_format() == 'channels_first':\n",
    "    x_train = x_train.reshape(x_train.shape[0], 1, img_rows, img_cols)\n",
    "    x_test = x_test.reshape(x_test.shape[0], 1, img_rows, img_cols)\n",
    "    input_shape = (1, img_rows, img_cols)\n",
    "else:\n",
    "    x_train = x_train.reshape(x_train.shape[0], img_rows, img_cols, 1)\n",
    "    x_test = x_test.reshape(x_test.shape[0], img_rows, img_cols, 1)\n",
    "    input_shape = (img_rows, img_cols, 1)\n"
   ]
  },
  {
   "cell_type": "code",
   "execution_count": 5,
   "metadata": {
    "tags": []
   },
   "outputs": [
    {
     "output_type": "stream",
     "name": "stdout",
     "text": "x_train shape: (60000, 28, 28, 1)\n60000 train samples\n10000 test samples\n"
    }
   ],
   "source": [
    "x_train = x_train.astype('float32')\n",
    "x_test = x_test.astype('float32')\n",
    "x_train /= 255\n",
    "x_test /= 255\n",
    "print('x_train shape:', x_train.shape)\n",
    "print(x_train.shape[0], 'train samples')\n",
    "print(x_test.shape[0], 'test samples')\n"
   ]
  },
  {
   "cell_type": "code",
   "execution_count": 6,
   "metadata": {},
   "outputs": [],
   "source": [
    "# convert class vectors to binary class matrices\n",
    "y_train = KerasUtil.to_categorical(y_train, num_classes)\n",
    "y_test = KerasUtil.to_categorical(y_test, num_classes)\n"
   ]
  },
  {
   "cell_type": "code",
   "execution_count": 7,
   "metadata": {
    "tags": []
   },
   "outputs": [
    {
     "output_type": "stream",
     "name": "stdout",
     "text": "WARNING:tensorflow:From C:\\Users\\User\\Anaconda3\\envs\\PythonGPU\\lib\\site-packages\\keras\\backend\\tensorflow_backend.py:4070: The name tf.nn.max_pool is deprecated. Please use tf.nn.max_pool2d instead.\n\n"
    }
   ],
   "source": [
    "model = Sequential()\n",
    "model.add(Conv2D(32, kernel_size=(3, 3),\n",
    "                 activation='relu',\n",
    "                 input_shape=input_shape))\n",
    "model.add(Conv2D(64, (3, 3), activation='relu'))\n",
    "model.add(MaxPooling2D(pool_size=(2, 2)))\n",
    "model.add(Dropout(0.25))\n",
    "model.add(Flatten())\n",
    "model.add(Dense(128, activation='relu'))\n",
    "model.add(Dropout(0.5))\n",
    "model.add(Dense(num_classes, activation='softmax'))"
   ]
  },
  {
   "cell_type": "code",
   "execution_count": 8,
   "metadata": {},
   "outputs": [],
   "source": [
    "model.compile(loss=keras.losses.categorical_crossentropy,\n",
    "              optimizer=keras.optimizers.Adadelta(),\n",
    "              metrics=['accuracy'])"
   ]
  },
  {
   "cell_type": "code",
   "execution_count": 9,
   "metadata": {
    "tags": []
   },
   "outputs": [
    {
     "output_type": "stream",
     "name": "stdout",
     "text": "WARNING:tensorflow:From C:\\Users\\User\\Anaconda3\\envs\\PythonGPU\\lib\\site-packages\\keras\\backend\\tensorflow_backend.py:422: The name tf.global_variables is deprecated. Please use tf.compat.v1.global_variables instead.\n\nTrain on 60000 samples, validate on 10000 samples\nEpoch 1/12\n60000/60000 [==============================] - 25s 411us/step - loss: 0.2720 - accuracy: 0.9167 - val_loss: 0.0581 - val_accuracy: 0.9802\nEpoch 2/12\n60000/60000 [==============================] - 21s 343us/step - loss: 0.0884 - accuracy: 0.9733 - val_loss: 0.0467 - val_accuracy: 0.9842\nEpoch 3/12\n60000/60000 [==============================] - 22s 358us/step - loss: 0.0659 - accuracy: 0.9810 - val_loss: 0.0344 - val_accuracy: 0.9874\nEpoch 4/12\n60000/60000 [==============================] - 22s 360us/step - loss: 0.0562 - accuracy: 0.9827 - val_loss: 0.0329 - val_accuracy: 0.9890\nEpoch 5/12\n60000/60000 [==============================] - 21s 358us/step - loss: 0.0479 - accuracy: 0.9851 - val_loss: 0.0302 - val_accuracy: 0.9905\nEpoch 6/12\n60000/60000 [==============================] - 22s 362us/step - loss: 0.0420 - accuracy: 0.9877 - val_loss: 0.0341 - val_accuracy: 0.9889\nEpoch 7/12\n60000/60000 [==============================] - 22s 361us/step - loss: 0.0371 - accuracy: 0.9889 - val_loss: 0.0329 - val_accuracy: 0.9895\nEpoch 8/12\n60000/60000 [==============================] - 21s 342us/step - loss: 0.0345 - accuracy: 0.9897 - val_loss: 0.0284 - val_accuracy: 0.9915\nEpoch 9/12\n60000/60000 [==============================] - 21s 358us/step - loss: 0.0328 - accuracy: 0.9899 - val_loss: 0.0289 - val_accuracy: 0.9909\nEpoch 10/12\n60000/60000 [==============================] - 22s 359us/step - loss: 0.0295 - accuracy: 0.9908 - val_loss: 0.0264 - val_accuracy: 0.9919\nEpoch 11/12\n60000/60000 [==============================] - 22s 359us/step - loss: 0.0271 - accuracy: 0.9913 - val_loss: 0.0287 - val_accuracy: 0.9918\nEpoch 12/12\n60000/60000 [==============================] - 22s 361us/step - loss: 0.0265 - accuracy: 0.9919 - val_loss: 0.0338 - val_accuracy: 0.9905\nTest loss: 0.033763485796679746\nTest accuracy: 0.9904999732971191\n"
    }
   ],
   "source": [
    "model.fit(x_train, y_train,\n",
    "          batch_size=batch_size,\n",
    "          epochs=epochs,\n",
    "          verbose=1,\n",
    "          validation_data=(x_test, y_test))\n",
    "score = model.evaluate(x_test, y_test, verbose=0)\n",
    "print('Test loss:', score[0])\n",
    "print('Test accuracy:', score[1])"
   ]
  },
  {
   "cell_type": "code",
   "execution_count": null,
   "metadata": {},
   "outputs": [],
   "source": []
  }
 ],
 "metadata": {
  "language_info": {
   "codemirror_mode": {
    "name": "ipython",
    "version": 3
   },
   "file_extension": ".py",
   "mimetype": "text/x-python",
   "name": "python",
   "nbconvert_exporter": "python",
   "pygments_lexer": "ipython3",
   "version": "3.6.5-final"
  },
  "orig_nbformat": 2,
  "kernelspec": {
   "name": "python36564bitpythongpuconda586fd3d45c064735949e949a46a9e9e3",
   "display_name": "Python 3.6.5 64-bit ('PythonGPU': conda)"
  }
 },
 "nbformat": 4,
 "nbformat_minor": 2
}